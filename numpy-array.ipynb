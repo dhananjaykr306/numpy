{
 "cells": [
  {
   "cell_type": "code",
   "execution_count": 1,
   "id": "03ee90db-92f0-44b7-8688-b9488c649c69",
   "metadata": {},
   "outputs": [
    {
     "name": "stdout",
     "output_type": "stream",
     "text": [
      "Collecting numpy\n",
      "  Downloading numpy-2.1.2-cp311-cp311-win_amd64.whl.metadata (59 kB)\n",
      "     ---------------------------------------- 0.0/59.7 kB ? eta -:--:--\n",
      "     ------------- ------------------------ 20.5/59.7 kB 217.9 kB/s eta 0:00:01\n",
      "     -------------------------------------- 59.7/59.7 kB 526.6 kB/s eta 0:00:00\n",
      "Downloading numpy-2.1.2-cp311-cp311-win_amd64.whl (12.9 MB)\n",
      "   ---------------------------------------- 0.0/12.9 MB ? eta -:--:--\n",
      "    --------------------------------------- 0.2/12.9 MB 5.3 MB/s eta 0:00:03\n",
      "   --- ------------------------------------ 1.0/12.9 MB 12.5 MB/s eta 0:00:01\n",
      "   ----- ---------------------------------- 1.7/12.9 MB 13.3 MB/s eta 0:00:01\n",
      "   ------- -------------------------------- 2.5/12.9 MB 14.8 MB/s eta 0:00:01\n",
      "   ---------- ----------------------------- 3.5/12.9 MB 16.2 MB/s eta 0:00:01\n",
      "   -------------- ------------------------- 4.6/12.9 MB 17.2 MB/s eta 0:00:01\n",
      "   ----------------- ---------------------- 5.6/12.9 MB 18.0 MB/s eta 0:00:01\n",
      "   --------------------- ------------------ 6.8/12.9 MB 19.0 MB/s eta 0:00:01\n",
      "   ----------------------- ---------------- 7.6/12.9 MB 18.8 MB/s eta 0:00:01\n",
      "   --------------------------- ------------ 8.9/12.9 MB 19.7 MB/s eta 0:00:01\n",
      "   ------------------------------ --------- 9.9/12.9 MB 19.9 MB/s eta 0:00:01\n",
      "   --------------------------------- ------ 10.9/12.9 MB 21.9 MB/s eta 0:00:01\n",
      "   ----------------------------------- ---- 11.5/12.9 MB 21.9 MB/s eta 0:00:01\n",
      "   ---------------------------------------  12.6/12.9 MB 21.1 MB/s eta 0:00:01\n",
      "   ---------------------------------------  12.9/12.9 MB 21.8 MB/s eta 0:00:01\n",
      "   ---------------------------------------- 12.9/12.9 MB 19.8 MB/s eta 0:00:00\n",
      "Installing collected packages: numpy\n",
      "Successfully installed numpy-2.1.2\n",
      "Note: you may need to restart the kernel to use updated packages.\n"
     ]
    },
    {
     "name": "stderr",
     "output_type": "stream",
     "text": [
      "\n",
      "[notice] A new release of pip is available: 24.0 -> 24.2\n",
      "[notice] To update, run: C:\\Users\\dhana\\AppData\\Local\\Programs\\Python\\Python311\\python.exe -m pip install --upgrade pip\n"
     ]
    }
   ],
   "source": [
    "pip install numpy"
   ]
  },
  {
   "cell_type": "code",
   "execution_count": 2,
   "id": "cbf78b62-3549-4768-9f47-b6441b27632d",
   "metadata": {},
   "outputs": [],
   "source": [
    "import numpy as np"
   ]
  },
  {
   "cell_type": "code",
   "execution_count": 9,
   "id": "9bfa34a6-e2a7-4c99-ac1d-3908e0bce1d5",
   "metadata": {},
   "outputs": [],
   "source": [
    "array_a = np.array([1,2,3,4])"
   ]
  },
  {
   "cell_type": "code",
   "execution_count": 11,
   "id": "728d6028-3a78-418b-99bf-030ee2287894",
   "metadata": {},
   "outputs": [
    {
     "data": {
      "text/plain": [
       "numpy.ndarray"
      ]
     },
     "execution_count": 11,
     "metadata": {},
     "output_type": "execute_result"
    }
   ],
   "source": [
    "type(array_a)"
   ]
  },
  {
   "cell_type": "code",
   "execution_count": 10,
   "id": "59df13ce-472f-4fa6-a65b-d4beebf0e53b",
   "metadata": {},
   "outputs": [
    {
     "name": "stdout",
     "output_type": "stream",
     "text": [
      "[1 2 3 4]\n"
     ]
    }
   ],
   "source": [
    "print(array_a)"
   ]
  },
  {
   "cell_type": "code",
   "execution_count": 5,
   "id": "d87fa1e8-26e2-4df6-9b06-e34d1b672264",
   "metadata": {},
   "outputs": [
    {
     "name": "stdout",
     "output_type": "stream",
     "text": [
      "[1, 2, 3, 4]\n"
     ]
    }
   ],
   "source": [
    "print([1,2,3,4])"
   ]
  },
  {
   "cell_type": "code",
   "execution_count": 6,
   "id": "bf342ea7-bf0a-41e4-823f-1c8ed5076bb9",
   "metadata": {},
   "outputs": [
    {
     "name": "stdout",
     "output_type": "stream",
     "text": [
      "[1, 2, 3, 4, 'Dhananjay']\n"
     ]
    }
   ],
   "source": [
    "print([1,2,3,4,\"Dhananjay\"])"
   ]
  },
  {
   "cell_type": "code",
   "execution_count": 7,
   "id": "aad335e1-ec9a-4963-9eb9-22561fa619b8",
   "metadata": {},
   "outputs": [],
   "source": [
    "array_A= np.array([1,2,3,4,5,\"Dhananajay\"])"
   ]
  },
  {
   "cell_type": "code",
   "execution_count": 8,
   "id": "edefa3cc-d83e-4641-a191-aa68732e289f",
   "metadata": {},
   "outputs": [
    {
     "data": {
      "text/plain": [
       "array(['1', '2', '3', '4', '5', 'Dhananajay'], dtype='<U21')"
      ]
     },
     "execution_count": 8,
     "metadata": {},
     "output_type": "execute_result"
    }
   ],
   "source": [
    "array_A"
   ]
  },
  {
   "cell_type": "code",
   "execution_count": 12,
   "id": "4825829f-2d31-4d30-96dc-05bac5f712d2",
   "metadata": {},
   "outputs": [
    {
     "data": {
      "text/plain": [
       "numpy.ndarray"
      ]
     },
     "execution_count": 12,
     "metadata": {},
     "output_type": "execute_result"
    }
   ],
   "source": [
    "type(array_A)"
   ]
  },
  {
   "cell_type": "code",
   "execution_count": 13,
   "id": "f1e029de-2ca7-4d85-aacc-48e6796f8949",
   "metadata": {},
   "outputs": [
    {
     "name": "stdout",
     "output_type": "stream",
     "text": [
      "(4,)\n"
     ]
    }
   ],
   "source": [
    "print(array_a.shape)"
   ]
  },
  {
   "cell_type": "code",
   "execution_count": 14,
   "id": "9dd6b070-c35a-4587-8258-ee3b7c29e62d",
   "metadata": {},
   "outputs": [],
   "source": [
    "array_b = np.array([[1,2,3,4,5],[1,2,3,4,5]])"
   ]
  },
  {
   "cell_type": "code",
   "execution_count": 16,
   "id": "c4bdda12-62f7-4358-906a-2de654ad765e",
   "metadata": {},
   "outputs": [
    {
     "name": "stdout",
     "output_type": "stream",
     "text": [
      "[[1 2 3 4 5]\n",
      " [1 2 3 4 5]]\n"
     ]
    }
   ],
   "source": [
    "print(array_b)"
   ]
  },
  {
   "cell_type": "code",
   "execution_count": 21,
   "id": "436e32ec-2ea3-4733-b385-74f7d0699402",
   "metadata": {},
   "outputs": [
    {
     "data": {
      "text/plain": [
       "(2, 5)"
      ]
     },
     "execution_count": 21,
     "metadata": {},
     "output_type": "execute_result"
    }
   ],
   "source": [
    "array_b.shape"
   ]
  },
  {
   "cell_type": "code",
   "execution_count": 22,
   "id": "4e319b16-18f0-439a-8955-b1c46eee36bd",
   "metadata": {},
   "outputs": [],
   "source": [
    "## 3 x 3"
   ]
  },
  {
   "cell_type": "code",
   "execution_count": 45,
   "id": "42b947a2-541b-4644-adfb-68016e8bf77f",
   "metadata": {},
   "outputs": [],
   "source": [
    "seq_a = [1,2,3]\n",
    "seq_b = [4,5,6]\n",
    "seq_c = [7,8,9]\n",
    "seq_d = [10.5,11.0,12]\n",
    "\n",
    "array_abc = np.array([seq_a,seq_b,seq_c,seq_d])"
   ]
  },
  {
   "cell_type": "code",
   "execution_count": 46,
   "id": "81d049e3-e962-4906-93df-dfd2d9f004a6",
   "metadata": {},
   "outputs": [
    {
     "data": {
      "text/plain": [
       "numpy.ndarray"
      ]
     },
     "execution_count": 46,
     "metadata": {},
     "output_type": "execute_result"
    }
   ],
   "source": [
    "type(array_abc)"
   ]
  },
  {
   "cell_type": "code",
   "execution_count": 47,
   "id": "4b4783ce-94b6-48cc-aa32-b1808d45f960",
   "metadata": {},
   "outputs": [
    {
     "data": {
      "text/plain": [
       "(4, 3)"
      ]
     },
     "execution_count": 47,
     "metadata": {},
     "output_type": "execute_result"
    }
   ],
   "source": [
    "array_abc.shape"
   ]
  },
  {
   "cell_type": "code",
   "execution_count": 48,
   "id": "4bcea7d3-94a0-40fe-932e-8c11f3b2feb9",
   "metadata": {},
   "outputs": [
    {
     "data": {
      "text/plain": [
       "array([[ 1. ,  2. ,  3. ],\n",
       "       [ 4. ,  5. ,  6. ],\n",
       "       [ 7. ,  8. ,  9. ],\n",
       "       [10.5, 11. , 12. ]])"
      ]
     },
     "execution_count": 48,
     "metadata": {},
     "output_type": "execute_result"
    }
   ],
   "source": [
    "array_abc"
   ]
  },
  {
   "cell_type": "code",
   "execution_count": 49,
   "id": "c3fb42be-2da6-402a-a6ce-a2be86f56a73",
   "metadata": {},
   "outputs": [],
   "source": [
    "## Numpy - Indexing "
   ]
  },
  {
   "cell_type": "code",
   "execution_count": 59,
   "id": "dc7ab976-5fb1-4b3d-bde2-01e06d8a55a0",
   "metadata": {},
   "outputs": [
    {
     "name": "stdout",
     "output_type": "stream",
     "text": [
      "(2, 3)\n"
     ]
    }
   ],
   "source": [
    "array_a = np.array([[1,2,3],[4,5,6]])\n",
    "print(array_a.shape)"
   ]
  },
  {
   "cell_type": "code",
   "execution_count": 60,
   "id": "42be2aca-1fab-4dfe-85f9-2c3839a09874",
   "metadata": {},
   "outputs": [
    {
     "data": {
      "text/plain": [
       "6"
      ]
     },
     "execution_count": 60,
     "metadata": {},
     "output_type": "execute_result"
    }
   ],
   "source": [
    "array_a.size"
   ]
  },
  {
   "cell_type": "code",
   "execution_count": 61,
   "id": "d5425b8b-f854-4ee0-a14b-f64954dc9c21",
   "metadata": {},
   "outputs": [],
   "source": [
    "array_b = array_a.reshape(3,2,)"
   ]
  },
  {
   "cell_type": "code",
   "execution_count": 62,
   "id": "97707d5b-3bf8-48e8-9bde-4acbe79e9cf8",
   "metadata": {},
   "outputs": [
    {
     "data": {
      "text/plain": [
       "(3, 2)"
      ]
     },
     "execution_count": 62,
     "metadata": {},
     "output_type": "execute_result"
    }
   ],
   "source": [
    "array_b.shape"
   ]
  },
  {
   "cell_type": "code",
   "execution_count": 63,
   "id": "4c1f3103-fd37-421d-ae01-6f3ea69d9243",
   "metadata": {},
   "outputs": [
    {
     "data": {
      "text/plain": [
       "array([[1, 2],\n",
       "       [3, 4],\n",
       "       [5, 6]])"
      ]
     },
     "execution_count": 63,
     "metadata": {},
     "output_type": "execute_result"
    }
   ],
   "source": [
    "array_b"
   ]
  },
  {
   "cell_type": "code",
   "execution_count": 69,
   "id": "94e3e161-177c-41a5-97e9-e081c7bef7b3",
   "metadata": {},
   "outputs": [
    {
     "name": "stdout",
     "output_type": "stream",
     "text": [
      "[1 2]\n"
     ]
    }
   ],
   "source": [
    "print(array_b[0])"
   ]
  },
  {
   "cell_type": "code",
   "execution_count": 68,
   "id": "e26b1ada-c3bf-47b1-9007-e4d07c85a529",
   "metadata": {},
   "outputs": [
    {
     "name": "stdout",
     "output_type": "stream",
     "text": [
      "[2 4 6]\n"
     ]
    }
   ],
   "source": [
    "print(array_b[:,1])"
   ]
  },
  {
   "cell_type": "code",
   "execution_count": 71,
   "id": "53745cef-f458-4823-8746-f0a6e31639d2",
   "metadata": {},
   "outputs": [
    {
     "name": "stdout",
     "output_type": "stream",
     "text": [
      "1\n"
     ]
    }
   ],
   "source": [
    "print(array_b[0,0])"
   ]
  },
  {
   "cell_type": "code",
   "execution_count": 56,
   "id": "ae950a80-6e8b-43ff-9f2b-f0228461be54",
   "metadata": {},
   "outputs": [],
   "source": [
    "array_b = array_a.reshape(6,1)"
   ]
  },
  {
   "cell_type": "code",
   "execution_count": 57,
   "id": "406f727f-c98a-4dad-91e6-c9b39ec69f25",
   "metadata": {},
   "outputs": [
    {
     "data": {
      "text/plain": [
       "(6, 1)"
      ]
     },
     "execution_count": 57,
     "metadata": {},
     "output_type": "execute_result"
    }
   ],
   "source": [
    "array_b.shape"
   ]
  },
  {
   "cell_type": "code",
   "execution_count": 58,
   "id": "0f8c9e51-4b40-40d2-8c4f-922805e37336",
   "metadata": {},
   "outputs": [
    {
     "data": {
      "text/plain": [
       "array([[1],\n",
       "       [2],\n",
       "       [3],\n",
       "       [4],\n",
       "       [5],\n",
       "       [6]])"
      ]
     },
     "execution_count": 58,
     "metadata": {},
     "output_type": "execute_result"
    }
   ],
   "source": [
    "array_b"
   ]
  },
  {
   "cell_type": "code",
   "execution_count": 72,
   "id": "4266adaf-2da5-44c3-bc11-4f5b0bc8ecd1",
   "metadata": {},
   "outputs": [],
   "source": [
    "# numpy reshaping and indexing"
   ]
  },
  {
   "cell_type": "code",
   "execution_count": 73,
   "id": "406ce3c9-0e5b-4219-9cdf-09cb20d46060",
   "metadata": {},
   "outputs": [],
   "source": [
    "array_a = np.array([[1,2,3,4],[5,6,7,8],[9,10,11,12],[13,14,15,16]])"
   ]
  },
  {
   "cell_type": "code",
   "execution_count": 74,
   "id": "45b25933-6643-4f82-8639-9b0d8d0f0ed1",
   "metadata": {},
   "outputs": [
    {
     "data": {
      "text/plain": [
       "array([[ 1,  2,  3,  4],\n",
       "       [ 5,  6,  7,  8],\n",
       "       [ 9, 10, 11, 12],\n",
       "       [13, 14, 15, 16]])"
      ]
     },
     "execution_count": 74,
     "metadata": {},
     "output_type": "execute_result"
    }
   ],
   "source": [
    "array_a"
   ]
  },
  {
   "cell_type": "code",
   "execution_count": 77,
   "id": "af989875-3bcf-4122-b60f-0dfdfa9a1ddb",
   "metadata": {},
   "outputs": [],
   "source": [
    "array_b =array_a.reshape(1,16)"
   ]
  },
  {
   "cell_type": "code",
   "execution_count": 78,
   "id": "6ec0f72e-f7aa-4e35-bad6-90b39740a291",
   "metadata": {},
   "outputs": [],
   "source": [
    "array_b = array_a.T"
   ]
  },
  {
   "cell_type": "code",
   "execution_count": 79,
   "id": "1394134b-ba0e-4c97-be8a-d55ae702cad3",
   "metadata": {},
   "outputs": [
    {
     "data": {
      "text/plain": [
       "array([[ 1,  5,  9, 13],\n",
       "       [ 2,  6, 10, 14],\n",
       "       [ 3,  7, 11, 15],\n",
       "       [ 4,  8, 12, 16]])"
      ]
     },
     "execution_count": 79,
     "metadata": {},
     "output_type": "execute_result"
    }
   ],
   "source": [
    "array_b"
   ]
  },
  {
   "cell_type": "code",
   "execution_count": 81,
   "id": "844f6dbb-7ccf-43b4-b405-f74d7a8baca6",
   "metadata": {},
   "outputs": [
    {
     "name": "stdout",
     "output_type": "stream",
     "text": [
      "[[1. 2. 3.]\n",
      " [4. 5. 6.]]\n"
     ]
    }
   ],
   "source": [
    "array_A = np.array([[1,2,3],[4,5,6]],dtype = float)\n",
    "print(array_A)"
   ]
  },
  {
   "cell_type": "code",
   "execution_count": 83,
   "id": "3f8603db-c145-48f7-87d5-0a85c58312d8",
   "metadata": {},
   "outputs": [
    {
     "name": "stdout",
     "output_type": "stream",
     "text": [
      "[[0. 0. 0.]\n",
      " [0. 0. 0.]\n",
      " [0. 0. 0.]]\n"
     ]
    }
   ],
   "source": [
    "array_b = np.zeros((3,3))\n",
    "print(array_b)"
   ]
  },
  {
   "cell_type": "code",
   "execution_count": 85,
   "id": "818b6a54-7a5a-43a1-910c-9fe75cefda55",
   "metadata": {},
   "outputs": [
    {
     "name": "stdout",
     "output_type": "stream",
     "text": [
      "[[1 1 1]\n",
      " [1 1 1]\n",
      " [1 1 1]]\n"
     ]
    }
   ],
   "source": [
    "array_c = np.ones((3,3),dtype = int)\n",
    "print(array_c)"
   ]
  },
  {
   "cell_type": "code",
   "execution_count": 86,
   "id": "5fc5ac98-a2f0-46fd-bc4f-65be54f8a118",
   "metadata": {},
   "outputs": [],
   "source": [
    "array_d = np.full((3,3),5)"
   ]
  },
  {
   "cell_type": "code",
   "execution_count": 87,
   "id": "b9701354-795f-48b1-8689-2bcbc34108ec",
   "metadata": {},
   "outputs": [
    {
     "data": {
      "text/plain": [
       "array([[5, 5, 5],\n",
       "       [5, 5, 5],\n",
       "       [5, 5, 5]])"
      ]
     },
     "execution_count": 87,
     "metadata": {},
     "output_type": "execute_result"
    }
   ],
   "source": [
    "array_d"
   ]
  },
  {
   "cell_type": "code",
   "execution_count": 88,
   "id": "c12685e8-a462-45d8-83e1-1f21e984d3e1",
   "metadata": {},
   "outputs": [
    {
     "name": "stdout",
     "output_type": "stream",
     "text": [
      "[[0.27610737 0.51989126 0.11802371 0.72072366]\n",
      " [0.53481402 0.31327413 0.86898598 0.70176227]\n",
      " [0.42434263 0.64744753 0.47960317 0.18445108]]\n"
     ]
    }
   ],
   "source": [
    "array_e = np.random.random((3,4))\n",
    "print(array_e)"
   ]
  },
  {
   "cell_type": "code",
   "execution_count": 89,
   "id": "0373a6d6-c703-4522-ae76-5b0b4390c4ab",
   "metadata": {},
   "outputs": [],
   "source": [
    "# Default array type"
   ]
  },
  {
   "cell_type": "code",
   "execution_count": 93,
   "id": "d536eec5-975e-43b6-a2e6-20ac421da42c",
   "metadata": {},
   "outputs": [
    {
     "ename": "OverflowError",
     "evalue": "Python integer 32768 out of bounds for int16",
     "output_type": "error",
     "traceback": [
      "\u001b[1;31m---------------------------------------------------------------------------\u001b[0m",
      "\u001b[1;31mOverflowError\u001b[0m                             Traceback (most recent call last)",
      "Cell \u001b[1;32mIn[93], line 2\u001b[0m\n\u001b[0;32m      1\u001b[0m \u001b[38;5;66;03m# np.int16 Integer (-32768 to 32767)\u001b[39;00m\n\u001b[1;32m----> 2\u001b[0m array_a \u001b[38;5;241m=\u001b[39m \u001b[43mnp\u001b[49m\u001b[38;5;241;43m.\u001b[39;49m\u001b[43marray\u001b[49m\u001b[43m(\u001b[49m\u001b[43m[\u001b[49m\u001b[38;5;241;43m32766\u001b[39;49m\u001b[43m,\u001b[49m\u001b[38;5;241;43m32767\u001b[39;49m\u001b[43m,\u001b[49m\u001b[38;5;241;43m32768\u001b[39;49m\u001b[43m]\u001b[49m\u001b[43m,\u001b[49m\u001b[43mdtype\u001b[49m\u001b[43m \u001b[49m\u001b[38;5;241;43m=\u001b[39;49m\u001b[43m \u001b[49m\u001b[43mnp\u001b[49m\u001b[38;5;241;43m.\u001b[39;49m\u001b[43mint16\u001b[49m\u001b[43m)\u001b[49m\n\u001b[0;32m      3\u001b[0m array_a\u001b[38;5;241m.\u001b[39mdtype\n",
      "\u001b[1;31mOverflowError\u001b[0m: Python integer 32768 out of bounds for int16"
     ]
    }
   ],
   "source": [
    "# np.int16 Integer (-32768 to 32767)\n",
    "array_a = np.array([32766,32767,32768],dtype = np.int16)\n",
    "array_a.dtype"
   ]
  },
  {
   "cell_type": "code",
   "execution_count": 96,
   "id": "0ac2498b-baca-4d56-91ed-f0792f18e2e3",
   "metadata": {},
   "outputs": [],
   "source": [
    "# np.int32 Integer (-2147483648 to 2147483647)"
   ]
  },
  {
   "cell_type": "code",
   "execution_count": 100,
   "id": "0c4e46af-8161-4205-b319-0f540fd4634e",
   "metadata": {},
   "outputs": [
    {
     "ename": "OverflowError",
     "evalue": "Python integer -1 out of bounds for uint16",
     "output_type": "error",
     "traceback": [
      "\u001b[1;31m---------------------------------------------------------------------------\u001b[0m",
      "\u001b[1;31mOverflowError\u001b[0m                             Traceback (most recent call last)",
      "Cell \u001b[1;32mIn[100], line 5\u001b[0m\n\u001b[0;32m      1\u001b[0m \u001b[38;5;66;03m# np.uint16 Unsiged integer (0 to 65535)\u001b[39;00m\n\u001b[0;32m      2\u001b[0m \u001b[38;5;66;03m# np.unint64 unsigned integer (0 to 4294967295)\u001b[39;00m\n\u001b[0;32m      3\u001b[0m \u001b[38;5;66;03m# np.unsigned integer (0 to 1844744073709551615)\u001b[39;00m\n\u001b[1;32m----> 5\u001b[0m array_b \u001b[38;5;241m=\u001b[39m \u001b[43mnp\u001b[49m\u001b[38;5;241;43m.\u001b[39;49m\u001b[43marray\u001b[49m\u001b[43m(\u001b[49m\u001b[43m[\u001b[49m\u001b[38;5;241;43m-\u001b[39;49m\u001b[38;5;241;43m1\u001b[39;49m\u001b[43m,\u001b[49m\u001b[38;5;241;43m0\u001b[39;49m\u001b[43m,\u001b[49m\u001b[38;5;241;43m1\u001b[39;49m\u001b[43m]\u001b[49m\u001b[43m,\u001b[49m\u001b[43mdtype\u001b[49m\u001b[38;5;241;43m=\u001b[39;49m\u001b[43mnp\u001b[49m\u001b[38;5;241;43m.\u001b[39;49m\u001b[43muint16\u001b[49m\u001b[43m)\u001b[49m\n",
      "\u001b[1;31mOverflowError\u001b[0m: Python integer -1 out of bounds for uint16"
     ]
    }
   ],
   "source": [
    "# np.uint16 Unsiged integer (0 to 65535)\n",
    "# np.unint64 unsigned integer (0 to 4294967295)\n",
    "# np.unsigned integer (0 to 1844744073709551615)\n",
    "\n",
    "array_b = np.array([-1,0,1],dtype=np.uint16)"
   ]
  },
  {
   "cell_type": "code",
   "execution_count": 102,
   "id": "29b64940-4d73-4124-bd2d-2629dc765585",
   "metadata": {},
   "outputs": [
    {
     "data": {
      "text/plain": [
       "array([1, 0, 1], dtype=uint16)"
      ]
     },
     "execution_count": 102,
     "metadata": {},
     "output_type": "execute_result"
    }
   ],
   "source": [
    "array_b = np.array([1,0,1],dtype=np.uint16)\n",
    "array_b"
   ]
  },
  {
   "cell_type": "code",
   "execution_count": 103,
   "id": "cb119051-20f6-43e4-9916-12be7ed66bc6",
   "metadata": {},
   "outputs": [],
   "source": [
    "row_1 = [1,2,3,4,5]\n",
    "row_2 = [6,7,8,9,10]\n",
    "row_3 = [11,12,13,14,15]\n",
    "row_4 = [16,17,18,19,20]\n",
    "row_5 = [21,22,23,24,25]\n",
    "\n",
    "test_data = np.array([row_1,row_2,row_3,row_4,row_5])"
   ]
  },
  {
   "cell_type": "code",
   "execution_count": 104,
   "id": "0dd5c1a5-7d26-4459-817d-29f50c0d6683",
   "metadata": {},
   "outputs": [
    {
     "name": "stdout",
     "output_type": "stream",
     "text": [
      "[[ 1  2  3  4  5]\n",
      " [ 6  7  8  9 10]\n",
      " [11 12 13 14 15]\n",
      " [16 17 18 19 20]\n",
      " [21 22 23 24 25]]\n"
     ]
    }
   ],
   "source": [
    "print(test_data)"
   ]
  },
  {
   "cell_type": "code",
   "execution_count": 105,
   "id": "4a037a54-55ec-40e0-9378-b45b587a7837",
   "metadata": {},
   "outputs": [],
   "source": [
    "# Slice"
   ]
  },
  {
   "cell_type": "code",
   "execution_count": 106,
   "id": "8c7fe836-d79c-4c29-832d-3d20fc0150a4",
   "metadata": {},
   "outputs": [],
   "source": [
    "#print 3 rd and 4 th column of every row"
   ]
  },
  {
   "cell_type": "code",
   "execution_count": 114,
   "id": "3481f63e-711e-4803-ba18-ab7ba1a0b559",
   "metadata": {},
   "outputs": [
    {
     "data": {
      "text/plain": [
       "array([[ 3,  4],\n",
       "       [ 8,  9],\n",
       "       [13, 14],\n",
       "       [18, 19],\n",
       "       [23, 24]])"
      ]
     },
     "execution_count": 114,
     "metadata": {},
     "output_type": "execute_result"
    }
   ],
   "source": [
    "test_data[:,2:4:1,]"
   ]
  },
  {
   "cell_type": "code",
   "execution_count": 115,
   "id": "c068b367-13fe-44f5-b188-83973781f73d",
   "metadata": {},
   "outputs": [],
   "source": [
    "# using negative indexing"
   ]
  },
  {
   "cell_type": "code",
   "execution_count": 119,
   "id": "e9d12666-47ca-49e2-a521-630946975b28",
   "metadata": {},
   "outputs": [
    {
     "data": {
      "text/plain": [
       "array([[ 4,  3],\n",
       "       [ 9,  8],\n",
       "       [14, 13],\n",
       "       [19, 18],\n",
       "       [24, 23]])"
      ]
     },
     "execution_count": 119,
     "metadata": {},
     "output_type": "execute_result"
    }
   ],
   "source": [
    "test_data[:,-2:-4:-1]"
   ]
  },
  {
   "cell_type": "code",
   "execution_count": 120,
   "id": "879cf18f-f000-4c73-abd5-fadc9baa2138",
   "metadata": {},
   "outputs": [],
   "source": [
    "# boolean "
   ]
  },
  {
   "cell_type": "code",
   "execution_count": 121,
   "id": "51951915-a327-4a87-9971-2dfec6809516",
   "metadata": {},
   "outputs": [
    {
     "name": "stdout",
     "output_type": "stream",
     "text": [
      "[[False False False False False]\n",
      " [ True  True  True  True  True]\n",
      " [ True  True  True  True  True]\n",
      " [ True  True  True  True  True]\n",
      " [ True  True  True  True  True]]\n"
     ]
    }
   ],
   "source": [
    "greater_than_five = test_data >5\n",
    "print(greater_than_five)"
   ]
  },
  {
   "cell_type": "code",
   "execution_count": 122,
   "id": "ca2df2a2-a5f4-4d29-9270-10589a3095fc",
   "metadata": {},
   "outputs": [
    {
     "data": {
      "text/plain": [
       "array([ 6,  7,  8,  9, 10, 11, 12, 13, 14, 15, 16, 17, 18, 19, 20, 21, 22,\n",
       "       23, 24, 25])"
      ]
     },
     "execution_count": 122,
     "metadata": {},
     "output_type": "execute_result"
    }
   ],
   "source": [
    "test_data[greater_than_five]"
   ]
  },
  {
   "cell_type": "code",
   "execution_count": 123,
   "id": "a3f23530-bba8-4baf-b154-4d9b7aa24c30",
   "metadata": {},
   "outputs": [],
   "source": [
    "# where"
   ]
  },
  {
   "cell_type": "code",
   "execution_count": 124,
   "id": "f0310fe5-ed3e-4010-a9f2-9e8692cdd6e9",
   "metadata": {},
   "outputs": [
    {
     "name": "stdout",
     "output_type": "stream",
     "text": [
      "[[ 0  0  0  0  0]\n",
      " [ 6  7  8  9 10]\n",
      " [11 12 13 14 15]\n",
      " [16 17 18 19 20]\n",
      " [21 22 23 24 25]]\n"
     ]
    }
   ],
   "source": [
    "drop_under_5_array = np.where(test_data > 5, test_data, 0)\n",
    "print(drop_under_5_array)"
   ]
  },
  {
   "cell_type": "code",
   "execution_count": 125,
   "id": "3b63077c-77d9-43c9-b472-82a3efa62eac",
   "metadata": {},
   "outputs": [],
   "source": [
    "# logical_and"
   ]
  },
  {
   "cell_type": "code",
   "execution_count": 127,
   "id": "5494488a-d556-4695-8437-3dfd92aae3fd",
   "metadata": {},
   "outputs": [],
   "source": [
    "drop_under_5_and_over_20 = np.logical_and(test_data>5 , test_data<20)"
   ]
  },
  {
   "cell_type": "code",
   "execution_count": 128,
   "id": "baaa7ef9-7bdf-49e5-9e2d-dd8e9404680b",
   "metadata": {},
   "outputs": [
    {
     "data": {
      "text/plain": [
       "array([[False, False, False, False, False],\n",
       "       [ True,  True,  True,  True,  True],\n",
       "       [ True,  True,  True,  True,  True],\n",
       "       [ True,  True,  True,  True, False],\n",
       "       [False, False, False, False, False]])"
      ]
     },
     "execution_count": 128,
     "metadata": {},
     "output_type": "execute_result"
    }
   ],
   "source": [
    "drop_under_5_and_over_20"
   ]
  },
  {
   "cell_type": "code",
   "execution_count": 129,
   "id": "a64493a4-6206-4a55-a3f7-89943a2f8384",
   "metadata": {},
   "outputs": [],
   "source": [
    "# advance-indexing-array"
   ]
  },
  {
   "cell_type": "code",
   "execution_count": 132,
   "id": "1235d9aa-fac2-4810-9a07-51503f526348",
   "metadata": {},
   "outputs": [
    {
     "name": "stdout",
     "output_type": "stream",
     "text": [
      "[ 0  5 10 15 20 25 30 35 40 45 50 55 60 65 70 75 80 85 90 95]\n"
     ]
    }
   ],
   "source": [
    "array = np.arange(0,100,5)\n",
    "print(array)"
   ]
  },
  {
   "cell_type": "code",
   "execution_count": 133,
   "id": "0d9ecda4-d751-43d0-b115-fd8aa5745b1d",
   "metadata": {},
   "outputs": [
    {
     "data": {
      "text/plain": [
       "(20,)"
      ]
     },
     "execution_count": 133,
     "metadata": {},
     "output_type": "execute_result"
    }
   ],
   "source": [
    "array.shape"
   ]
  },
  {
   "cell_type": "code",
   "execution_count": 135,
   "id": "da0402cd-e28c-4f73-9b2e-c7000946b87a",
   "metadata": {},
   "outputs": [],
   "source": [
    "array = array.reshape(4,5)"
   ]
  },
  {
   "cell_type": "code",
   "execution_count": 136,
   "id": "df5ff40d-42e5-45b2-b0e8-5536ca6428da",
   "metadata": {},
   "outputs": [
    {
     "data": {
      "text/plain": [
       "array([[ 0,  5, 10, 15, 20],\n",
       "       [25, 30, 35, 40, 45],\n",
       "       [50, 55, 60, 65, 70],\n",
       "       [75, 80, 85, 90, 95]])"
      ]
     },
     "execution_count": 136,
     "metadata": {},
     "output_type": "execute_result"
    }
   ],
   "source": [
    "array"
   ]
  },
  {
   "cell_type": "code",
   "execution_count": 138,
   "id": "20e598e9-2a86-4f4a-9faa-c94dd67e7659",
   "metadata": {},
   "outputs": [
    {
     "name": "stdout",
     "output_type": "stream",
     "text": [
      "[20 45 70 95]\n"
     ]
    }
   ],
   "source": [
    "print(array[:,-1])"
   ]
  },
  {
   "cell_type": "code",
   "execution_count": 141,
   "id": "dbd1e39c-c8e3-4987-8fed-df7b321411a6",
   "metadata": {},
   "outputs": [],
   "source": [
    "array_above_50 = array[array>=50]"
   ]
  },
  {
   "cell_type": "code",
   "execution_count": 142,
   "id": "8e0f748f-bb26-4fb2-8731-81ac3e25065e",
   "metadata": {},
   "outputs": [
    {
     "data": {
      "text/plain": [
       "array([50, 55, 60, 65, 70, 75, 80, 85, 90, 95])"
      ]
     },
     "execution_count": 142,
     "metadata": {},
     "output_type": "execute_result"
    }
   ],
   "source": [
    "array_above_50"
   ]
  },
  {
   "cell_type": "code",
   "execution_count": 150,
   "id": "e1e06fd2-135d-4574-9a04-cb53a0199b1a",
   "metadata": {},
   "outputs": [
    {
     "name": "stdout",
     "output_type": "stream",
     "text": [
      "[[  0   0   0   0   0]\n",
      " [  0   0   0   0   0]\n",
      " [100 110 120 130 140]\n",
      " [150 160 170 180 190]]\n"
     ]
    }
   ],
   "source": [
    "print(np.where(array>=50,array*2,0))"
   ]
  },
  {
   "cell_type": "code",
   "execution_count": 146,
   "id": "f2ff2cdc-e68d-4479-8748-ebab0480a6c8",
   "metadata": {},
   "outputs": [
    {
     "name": "stdout",
     "output_type": "stream",
     "text": [
      "[50 60 70 80 90]\n"
     ]
    }
   ],
   "source": [
    "print(array_above_50[0:len(array_above_50):2])"
   ]
  },
  {
   "cell_type": "code",
   "execution_count": 151,
   "id": "24e88436-a1ff-4d85-9440-cb3529f63fb0",
   "metadata": {},
   "outputs": [],
   "source": [
    "# array-math_lesson"
   ]
  },
  {
   "cell_type": "code",
   "execution_count": 175,
   "id": "ada30eba-6bc2-4fca-802c-bc102636e7cd",
   "metadata": {},
   "outputs": [],
   "source": [
    "array_a = np.array([[1,2],[3,4]])\n",
    "array_b = np.array([[2,2],[6,6]])"
   ]
  },
  {
   "cell_type": "code",
   "execution_count": 164,
   "id": "1c57919e-7dc7-47dc-86a7-6c681f7270cc",
   "metadata": {},
   "outputs": [],
   "source": [
    "#single array array operation\n",
    "\n",
    "# axis =0   ----> along column\n",
    "\n",
    "#axis =1    ----> along row"
   ]
  },
  {
   "cell_type": "code",
   "execution_count": 165,
   "id": "2294c227-94cd-4c14-b945-7dc2465e2b09",
   "metadata": {},
   "outputs": [
    {
     "name": "stdout",
     "output_type": "stream",
     "text": [
      "[4 6]\n"
     ]
    }
   ],
   "source": [
    "print(array_a.sum(axis=0))"
   ]
  },
  {
   "cell_type": "code",
   "execution_count": 166,
   "id": "cab10adc-6997-4efe-b293-35a0adf6b848",
   "metadata": {},
   "outputs": [
    {
     "name": "stdout",
     "output_type": "stream",
     "text": [
      "[ 4 12  9]\n"
     ]
    }
   ],
   "source": [
    "print(array_b.sum(axis=1))"
   ]
  },
  {
   "cell_type": "code",
   "execution_count": 167,
   "id": "04e77e64-9b37-4580-b5ef-6f69b6fa2f74",
   "metadata": {},
   "outputs": [
    {
     "name": "stdout",
     "output_type": "stream",
     "text": [
      "[ 1  3  6 10]\n"
     ]
    }
   ],
   "source": [
    "print(array_a.cumsum())"
   ]
  },
  {
   "cell_type": "code",
   "execution_count": 172,
   "id": "31db96dd-5574-431a-8e40-91e36e7bc2c9",
   "metadata": {},
   "outputs": [
    {
     "name": "stdout",
     "output_type": "stream",
     "text": [
      "24\n"
     ]
    }
   ],
   "source": [
    "print(array_a.prod())"
   ]
  },
  {
   "cell_type": "code",
   "execution_count": 173,
   "id": "623cc916-6f85-423c-8f4b-8067276382b6",
   "metadata": {},
   "outputs": [
    {
     "name": "stdout",
     "output_type": "stream",
     "text": [
      "[ 1  2  6 24]\n"
     ]
    }
   ],
   "source": [
    "print(array_a.cumprod())"
   ]
  },
  {
   "cell_type": "code",
   "execution_count": 176,
   "id": "f26fe975-3185-4c09-9037-9851366a89aa",
   "metadata": {},
   "outputs": [],
   "source": [
    "# two array math"
   ]
  },
  {
   "cell_type": "code",
   "execution_count": 177,
   "id": "0469e130-fde2-4e18-9811-be119d050f7b",
   "metadata": {},
   "outputs": [
    {
     "name": "stdout",
     "output_type": "stream",
     "text": [
      "[[ 3  4]\n",
      " [ 9 10]]\n"
     ]
    }
   ],
   "source": [
    "print(array_a + array_b)"
   ]
  },
  {
   "cell_type": "code",
   "execution_count": 178,
   "id": "c64cc1fb-6dfc-4efa-9d45-6a6e2ba810aa",
   "metadata": {},
   "outputs": [
    {
     "name": "stdout",
     "output_type": "stream",
     "text": [
      "[[-1  0]\n",
      " [-3 -2]]\n"
     ]
    }
   ],
   "source": [
    "print(array_a - array_b)"
   ]
  },
  {
   "cell_type": "code",
   "execution_count": 179,
   "id": "3ce3d133-3bd6-4c9e-9107-966a5e7487b4",
   "metadata": {},
   "outputs": [
    {
     "name": "stdout",
     "output_type": "stream",
     "text": [
      "[[ 2  4]\n",
      " [18 24]]\n"
     ]
    }
   ],
   "source": [
    "print(array_a * array_b)"
   ]
  },
  {
   "cell_type": "code",
   "execution_count": 183,
   "id": "cfa43b85-d3ab-45f0-8ffd-afe6c3d2f386",
   "metadata": {},
   "outputs": [
    {
     "name": "stdout",
     "output_type": "stream",
     "text": [
      "[[0.5        1.        ]\n",
      " [0.5        0.66666667]]\n"
     ]
    }
   ],
   "source": [
    "print((array_a / array_b))"
   ]
  },
  {
   "cell_type": "code",
   "execution_count": 184,
   "id": "6a5f3269-6993-4753-b1fc-0e2b87343a7c",
   "metadata": {},
   "outputs": [
    {
     "name": "stdout",
     "output_type": "stream",
     "text": [
      "[[14 14]\n",
      " [30 30]]\n"
     ]
    }
   ],
   "source": [
    "print(np.dot(array_a,array_b))"
   ]
  },
  {
   "cell_type": "code",
   "execution_count": 187,
   "id": "a89c8e58-7d86-4d03-a0c1-b6f0fe0c3869",
   "metadata": {},
   "outputs": [
    {
     "name": "stdout",
     "output_type": "stream",
     "text": [
      "[[1 2 3]\n",
      " [4 5 6]\n",
      " [7 8 9]]\n",
      "---------------------------------------\n",
      "[[2 2 2]\n",
      " [3 4 5]\n",
      " [6 7 8]]\n"
     ]
    }
   ],
   "source": [
    "array_a = np.array([[1,2,3],[4,5,6],[7,8,9]])\n",
    "array_b = np.array([[2,2,2],[3,4,5],[6,7,8]])\n",
    "print(array_a)\n",
    "print(\"---------------------------------------\")\n",
    "print(array_b)"
   ]
  },
  {
   "cell_type": "code",
   "execution_count": 190,
   "id": "b7a548db-c9ec-4665-b11a-9ab639298923",
   "metadata": {},
   "outputs": [
    {
     "name": "stdout",
     "output_type": "stream",
     "text": [
      "[12 15 18]\n"
     ]
    }
   ],
   "source": [
    "print(array_a.sum(axis = 0))"
   ]
  },
  {
   "cell_type": "code",
   "execution_count": 191,
   "id": "3a5bbfa4-6aea-4afb-a7a9-37e45d705c5c",
   "metadata": {},
   "outputs": [
    {
     "ename": "AttributeError",
     "evalue": "`ptp` was removed from the ndarray class in NumPy 2.0. Use np.ptp(arr, ...) instead.",
     "output_type": "error",
     "traceback": [
      "\u001b[1;31m---------------------------------------------------------------------------\u001b[0m",
      "\u001b[1;31mAttributeError\u001b[0m                            Traceback (most recent call last)",
      "Cell \u001b[1;32mIn[191], line 1\u001b[0m\n\u001b[1;32m----> 1\u001b[0m \u001b[38;5;28mprint\u001b[39m(\u001b[43marray_a\u001b[49m\u001b[38;5;241;43m.\u001b[39;49m\u001b[43mptp\u001b[49m(axis\u001b[38;5;241m=\u001b[39m\u001b[38;5;241m1\u001b[39m))\n",
      "\u001b[1;31mAttributeError\u001b[0m: `ptp` was removed from the ndarray class in NumPy 2.0. Use np.ptp(arr, ...) instead."
     ]
    }
   ],
   "source": [
    "#print(array_a.ptp(axis=1))"
   ]
  },
  {
   "cell_type": "code",
   "execution_count": 192,
   "id": "3cfbff8a-b00d-4da9-9563-260522c6aaf0",
   "metadata": {},
   "outputs": [
    {
     "name": "stdout",
     "output_type": "stream",
     "text": [
      "1\n"
     ]
    }
   ],
   "source": [
    "print(array_a.min())"
   ]
  },
  {
   "cell_type": "code",
   "execution_count": 193,
   "id": "7b5c0916-2aa8-453a-a04e-c82522ecf51e",
   "metadata": {},
   "outputs": [
    {
     "name": "stdout",
     "output_type": "stream",
     "text": [
      "9\n"
     ]
    }
   ],
   "source": [
    "print(array_a.max())"
   ]
  },
  {
   "cell_type": "code",
   "execution_count": 194,
   "id": "f29f2db5-997b-4679-9046-2fdfe80a6577",
   "metadata": {},
   "outputs": [
    {
     "name": "stdout",
     "output_type": "stream",
     "text": [
      "5.0\n"
     ]
    }
   ],
   "source": [
    "print(array_a.mean())"
   ]
  },
  {
   "cell_type": "code",
   "execution_count": 195,
   "id": "b4d56bc8-21ad-4f4f-9ebc-2a6c4c2c75ae",
   "metadata": {},
   "outputs": [
    {
     "name": "stdout",
     "output_type": "stream",
     "text": [
      "[1 4 7]\n",
      "[3 6 9]\n",
      "[2. 5. 8.]\n"
     ]
    }
   ],
   "source": [
    "print(array_a.min(axis=1))\n",
    "print(array_a.max(axis=1))\n",
    "print(array_a.mean(axis=1))"
   ]
  },
  {
   "cell_type": "code",
   "execution_count": 196,
   "id": "355b039a-f550-48b9-b96d-81d7a138a8c6",
   "metadata": {},
   "outputs": [
    {
     "name": "stdout",
     "output_type": "stream",
     "text": [
      "[1 2 3]\n",
      "[7 8 9]\n",
      "[4. 5. 6.]\n"
     ]
    }
   ],
   "source": [
    "print(array_a.min(axis=0))\n",
    "print(array_a.max(axis=0))\n",
    "print(array_a.mean(axis=0))"
   ]
  },
  {
   "cell_type": "code",
   "execution_count": 197,
   "id": "06bbfc6c-fa60-467c-8ef7-d3767d69b865",
   "metadata": {},
   "outputs": [
    {
     "name": "stdout",
     "output_type": "stream",
     "text": [
      "[[       1        4        9]\n",
      " [      64      625     7776]\n",
      " [  117649  2097152 43046721]]\n"
     ]
    }
   ],
   "source": [
    "print(np.power(array_a,array_b))"
   ]
  },
  {
   "cell_type": "code",
   "execution_count": 198,
   "id": "ec13d0db-d92a-47e3-ac2f-25b06de14fdc",
   "metadata": {},
   "outputs": [],
   "source": [
    "array_c = np.array([[1,1,1],[2,2,2],[3,3,3]])"
   ]
  },
  {
   "cell_type": "code",
   "execution_count": 199,
   "id": "2a89428f-7c05-4033-8f18-e4443bd9494c",
   "metadata": {},
   "outputs": [
    {
     "name": "stdout",
     "output_type": "stream",
     "text": [
      "[[ 4  5  6]\n",
      " [ 9 11 13]\n",
      " [16 18 20]]\n"
     ]
    }
   ],
   "source": [
    "print(array_a + array_b + array_c)"
   ]
  },
  {
   "cell_type": "code",
   "execution_count": 200,
   "id": "3cd8b344-6ee2-4155-9bbf-1458bec07dba",
   "metadata": {},
   "outputs": [
    {
     "name": "stdout",
     "output_type": "stream",
     "text": [
      "[[0.5        1.         1.5       ]\n",
      " [0.66666667 0.625      0.6       ]\n",
      " [0.38888889 0.38095238 0.375     ]]\n"
     ]
    }
   ],
   "source": [
    "print(array_a / array_b / array_c)"
   ]
  },
  {
   "cell_type": "code",
   "execution_count": 201,
   "id": "e274da18-d9cd-4a9e-bb56-bb2158d11b6a",
   "metadata": {},
   "outputs": [],
   "source": [
    "# numpy broadcasting"
   ]
  },
  {
   "cell_type": "code",
   "execution_count": 208,
   "id": "8eeece84-b2a1-4e7f-bd3d-0c1a38bbd4a5",
   "metadata": {},
   "outputs": [],
   "source": [
    "array_a = np.array([[1,1,1,1],[2,2,2,2],[3,3,3,3]])\n",
    "array_b = np.array([0,1,2,3])\n",
    "array_c = np.array([[1],[2],[3]])\n",
    "array_d = np.array([[0,1,2,3],[0,1,2,3],[0,1,2,3]])"
   ]
  },
  {
   "cell_type": "code",
   "execution_count": 205,
   "id": "5400b221-7afd-4d95-8adc-026267a3a92a",
   "metadata": {},
   "outputs": [
    {
     "name": "stdout",
     "output_type": "stream",
     "text": [
      "[[1 2 3 4]\n",
      " [2 3 4 5]\n",
      " [3 4 5 6]]\n"
     ]
    }
   ],
   "source": [
    "print(array_a + array_b)"
   ]
  },
  {
   "cell_type": "code",
   "execution_count": 209,
   "id": "ffc5c779-b907-4ab5-aaf2-471481cdc30f",
   "metadata": {},
   "outputs": [
    {
     "name": "stdout",
     "output_type": "stream",
     "text": [
      "[[1 2 3 4]\n",
      " [2 3 4 5]\n",
      " [3 4 5 6]]\n"
     ]
    }
   ],
   "source": [
    "print(array_d+array_a)"
   ]
  },
  {
   "cell_type": "code",
   "execution_count": null,
   "id": "86647788-a1cb-4031-b521-09bf7a86292b",
   "metadata": {},
   "outputs": [],
   "source": []
  }
 ],
 "metadata": {
  "kernelspec": {
   "display_name": "Python 3 (ipykernel)",
   "language": "python",
   "name": "python3"
  },
  "language_info": {
   "codemirror_mode": {
    "name": "ipython",
    "version": 3
   },
   "file_extension": ".py",
   "mimetype": "text/x-python",
   "name": "python",
   "nbconvert_exporter": "python",
   "pygments_lexer": "ipython3",
   "version": "3.11.9"
  }
 },
 "nbformat": 4,
 "nbformat_minor": 5
}
